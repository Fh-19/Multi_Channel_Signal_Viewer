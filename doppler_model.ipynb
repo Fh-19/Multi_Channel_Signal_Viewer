{
  "nbformat": 4,
  "nbformat_minor": 0,
  "metadata": {
    "colab": {
      "provenance": [],
      "gpuType": "T4",
      "authorship_tag": "ABX9TyP7WRolMHnsP3nWHgPz0PMI",
      "include_colab_link": true
    },
    "kernelspec": {
      "name": "python3",
      "display_name": "Python 3"
    },
    "language_info": {
      "name": "python"
    },
    "accelerator": "GPU"
  },
  "cells": [
    {
      "cell_type": "markdown",
      "metadata": {
        "id": "view-in-github",
        "colab_type": "text"
      },
      "source": [
        "<a href=\"https://colab.research.google.com/github/Fh-19/Multi_Channel_Signal_Viewer/blob/main/doppler_model.ipynb\" target=\"_parent\"><img src=\"https://colab.research.google.com/assets/colab-badge.svg\" alt=\"Open In Colab\"/></a>"
      ]
    },
    {
      "cell_type": "code",
      "source": [
        "# Mount Drive and install deps (run once)\n",
        "from google.colab import drive\n",
        "drive.mount('/content/drive')\n",
        "\n",
        "!pip install -q librosa torch torchvision torchaudio matplotlib numpy pandas tqdm scikit-learn soundfile\n"
      ],
      "metadata": {
        "colab": {
          "base_uri": "https://localhost:8080/"
        },
        "id": "0tMi8vwZXScK",
        "outputId": "48516208-fa8f-4075-81a6-ee950a9b6f74"
      },
      "execution_count": null,
      "outputs": [
        {
          "output_type": "stream",
          "name": "stdout",
          "text": [
            "Mounted at /content/drive\n"
          ]
        }
      ]
    },
    {
      "cell_type": "code",
      "source": [
        "import os, re, random\n",
        "import numpy as np\n",
        "import pandas as pd\n",
        "import librosa\n",
        "import matplotlib.pyplot as plt\n",
        "from tqdm import tqdm\n",
        "\n",
        "import torch\n",
        "import torch.nn as nn\n",
        "import torch.optim as optim\n",
        "from torch.utils.data import Dataset, DataLoader\n",
        "\n",
        "from sklearn.model_selection import train_test_split\n",
        "from sklearn.metrics import mean_absolute_error, mean_squared_error, r2_score\n",
        "from sklearn.metrics import precision_recall_fscore_support, accuracy_score, confusion_matrix\n"
      ],
      "metadata": {
        "id": "fJpplmL5XTeF"
      },
      "execution_count": null,
      "outputs": []
    },
    {
      "cell_type": "code",
      "source": [
        "# Update this path to your folder in Drive\n",
        "DATA_DIR = \"/content/drive/MyDrive/car_sounds\"\n",
        "\n",
        "def parse_label_from_filename(fname):\n",
        "    # expects car_<speed>kmh_<freq>Hz_xxx.wav\n",
        "    m = re.search(r'car_(\\d+(?:\\.\\d+)?)kmh_(\\d+(?:\\.\\d+)?)Hz', os.path.basename(fname))\n",
        "    if not m:\n",
        "        raise ValueError(f\"Filename not in expected format: {fname}\")\n",
        "    return float(m.group(1)), float(m.group(2))\n",
        "\n",
        "# collect files\n",
        "all_files = sorted([os.path.join(DATA_DIR, f) for f in os.listdir(DATA_DIR) if f.lower().endswith('.wav')])\n",
        "print(\"Total files found:\", len(all_files))\n",
        "if len(all_files) == 0:\n",
        "    raise RuntimeError(\"No wav files found in DATA_DIR\")\n",
        "\n",
        "# build labels array for normalization\n",
        "labels = np.array([parse_label_from_filename(f) for f in all_files])  # shape (N,2)\n",
        "target_mean = labels.mean(axis=0)\n",
        "target_std = labels.std(axis=0) + 1e-8\n",
        "print(\"Target mean (speed, freq):\", target_mean)\n",
        "print(\"Target std  (speed, freq):\", target_std)\n"
      ],
      "metadata": {
        "colab": {
          "base_uri": "https://localhost:8080/"
        },
        "id": "_ji-sQ6mXVw6",
        "outputId": "c07bc393-dada-4b12-a7db-b3241443e12d"
      },
      "execution_count": null,
      "outputs": [
        {
          "output_type": "stream",
          "name": "stdout",
          "text": [
            "Total files found: 480\n",
            "Target mean (speed, freq): [ 70. 450.]\n",
            "Target std  (speed, freq): [ 28.28427126 170.78251278]\n"
          ]
        }
      ]
    },
    {
      "cell_type": "code",
      "source": [
        "class CarSoundDataset(Dataset):\n",
        "    def __init__(self, files, sr=22050, n_mels=64, max_frames=400, augment=False, mean=None, std=None):\n",
        "        self.files = files\n",
        "        self.sr = sr\n",
        "        self.n_mels = n_mels\n",
        "        self.max_frames = max_frames\n",
        "        self.augment = augment\n",
        "        self.mean = np.array(mean) if mean is not None else np.array([0.0, 0.0])\n",
        "        self.std = np.array(std) if std is not None else np.array([1.0, 1.0])\n",
        "\n",
        "    def __len__(self):\n",
        "        return len(self.files)\n",
        "\n",
        "    def _augment(self, y):\n",
        "        # small augmentations to increase variability\n",
        "        # pitch shift +/- 1 semitone, or time-stretch 0.95-1.05\n",
        "        if random.random() < 0.3:\n",
        "            n_steps = random.uniform(-1.0, 1.0)\n",
        "            y = librosa.effects.pitch_shift(y, sr=self.sr, n_steps=n_steps)\n",
        "        if random.random() < 0.3:\n",
        "            rate = random.uniform(0.95, 1.05)\n",
        "            try:\n",
        "                y = librosa.effects.time_stretch(y, rate)\n",
        "            except Exception:\n",
        "                pass\n",
        "        # small gaussian noise\n",
        "        if random.random() < 0.2:\n",
        "            y = y + 0.001*np.random.randn(len(y))\n",
        "        return y\n",
        "\n",
        "    def __getitem__(self, idx):\n",
        "        path = self.files[idx]\n",
        "        y, sr = librosa.load(path, sr=self.sr)\n",
        "        if self.augment:\n",
        "            y = self._augment(y)\n",
        "\n",
        "        # mel spectrogram\n",
        "        mel = librosa.feature.melspectrogram(y=y, sr=sr, n_mels=self.n_mels)\n",
        "        mel_db = librosa.power_to_db(mel, ref=np.max)\n",
        "        mel_db = (mel_db - mel_db.min()) / (mel_db.max() - mel_db.min() + 1e-9)\n",
        "\n",
        "        # pad or trim along time axis\n",
        "        if mel_db.shape[1] < self.max_frames:\n",
        "            pad = self.max_frames - mel_db.shape[1]\n",
        "            mel_db = np.pad(mel_db, ((0,0),(0,pad)), mode='constant', constant_values=0.0)\n",
        "        else:\n",
        "            mel_db = mel_db[:, :self.max_frames]\n",
        "\n",
        "        # labels\n",
        "        speed, freq = parse_label_from_filename(path)\n",
        "        label = np.array([speed, freq], dtype=np.float32)\n",
        "        label_norm = (label - self.mean) / self.std\n",
        "\n",
        "        mel_tensor = torch.tensor(mel_db, dtype=torch.float32).unsqueeze(0)  # (1, n_mels, max_frames)\n",
        "        label_tensor = torch.tensor(label_norm, dtype=torch.float32)\n",
        "\n",
        "        return mel_tensor, label_tensor, os.path.basename(path)\n"
      ],
      "metadata": {
        "id": "3Xgdp1ZdXZJS"
      },
      "execution_count": null,
      "outputs": []
    },
    {
      "cell_type": "code",
      "source": [
        "# split\n",
        "train_files, test_files = train_test_split(all_files, test_size=0.2, random_state=42)\n",
        "\n",
        "# dataset params - you can increase max_frames if audio is long (but memory grows)\n",
        "ds_kwargs = {\n",
        "    \"sr\": 22050,\n",
        "    \"n_mels\": 64,\n",
        "    \"max_frames\": 400,\n",
        "    \"mean\": target_mean,\n",
        "    \"std\": target_std\n",
        "}\n",
        "\n",
        "train_dataset = CarSoundDataset(train_files, augment=True, **ds_kwargs)\n",
        "test_dataset  = CarSoundDataset(test_files, augment=False, **ds_kwargs)\n",
        "\n",
        "batch_size = 16\n",
        "train_loader = DataLoader(train_dataset, batch_size=batch_size, shuffle=True, num_workers=2, pin_memory=True)\n",
        "test_loader  = DataLoader(test_dataset, batch_size=batch_size, shuffle=False, num_workers=2, pin_memory=True)\n",
        "\n",
        "print(\"Train size:\", len(train_dataset), \"Test size:\", len(test_dataset))\n"
      ],
      "metadata": {
        "colab": {
          "base_uri": "https://localhost:8080/"
        },
        "id": "WGrry5QJXbwx",
        "outputId": "6ca0334a-b516-4c8e-9ce9-a96266cb1c59"
      },
      "execution_count": null,
      "outputs": [
        {
          "output_type": "stream",
          "name": "stdout",
          "text": [
            "Train size: 384 Test size: 96\n"
          ]
        }
      ]
    },
    {
      "cell_type": "code",
      "source": [
        "class DopplerNet(nn.Module):\n",
        "    def __init__(self):\n",
        "        super(DopplerNet, self).__init__()\n",
        "        self.cnn = nn.Sequential(\n",
        "            nn.Conv2d(1, 16, kernel_size=3, padding=1),\n",
        "            nn.BatchNorm2d(16),\n",
        "            nn.ReLU(),\n",
        "            nn.MaxPool2d((2,2)),\n",
        "\n",
        "            nn.Conv2d(16, 32, kernel_size=3, padding=1),\n",
        "            nn.BatchNorm2d(32),\n",
        "            nn.ReLU(),\n",
        "            nn.MaxPool2d((2,2)),\n",
        "\n",
        "            nn.Conv2d(32, 64, kernel_size=3, padding=1),\n",
        "            nn.BatchNorm2d(64),\n",
        "            nn.ReLU(),\n",
        "            nn.MaxPool2d((2,2)),\n",
        "\n",
        "            nn.Conv2d(64, 128, kernel_size=3, padding=1),\n",
        "            nn.BatchNorm2d(128),\n",
        "            nn.ReLU(),\n",
        "            nn.AdaptiveAvgPool2d((4,4))\n",
        "        )\n",
        "        self.fc = nn.Sequential(\n",
        "            nn.Flatten(),\n",
        "            nn.Linear(128*4*4, 256),\n",
        "            nn.ReLU(),\n",
        "            nn.Dropout(0.4),\n",
        "            nn.Linear(256, 2)  # speed_norm, freq_norm\n",
        "        )\n",
        "    def forward(self, x):\n",
        "        x = self.cnn(x)\n",
        "        x = self.fc(x)\n",
        "        return x\n"
      ],
      "metadata": {
        "id": "Aw37jM9AXgD7"
      },
      "execution_count": null,
      "outputs": []
    },
    {
      "cell_type": "code",
      "source": [
        "device = torch.device('cuda' if torch.cuda.is_available() else 'cpu')\n",
        "model = DopplerNet().to(device)\n",
        "criterion = nn.MSELoss()\n",
        "optimizer = optim.Adam(model.parameters(), lr=1e-3, weight_decay=1e-5)\n",
        "scheduler = optim.lr_scheduler.ReduceLROnPlateau(optimizer, mode='min', factor=0.5, patience=3)\n",
        "\n",
        "num_epochs = 50\n",
        "train_losses = []\n",
        "\n",
        "for epoch in range(num_epochs):\n",
        "    model.train()\n",
        "    epoch_loss = 0.0\n",
        "    for mel, labels, _ in tqdm(train_loader, desc=f\"Epoch {epoch+1}/{num_epochs}\"):\n",
        "        mel = mel.to(device)\n",
        "        labels = labels.to(device)\n",
        "\n",
        "        optimizer.zero_grad()\n",
        "        outputs = model(mel)\n",
        "        loss = criterion(outputs, labels)\n",
        "        loss.backward()\n",
        "        optimizer.step()\n",
        "        epoch_loss += loss.item() * mel.size(0)\n",
        "\n",
        "    avg_loss = epoch_loss / len(train_dataset)\n",
        "    train_losses.append(avg_loss)\n",
        "    scheduler.step(avg_loss)\n",
        "    print(f\"Epoch {epoch+1}/{num_epochs} - Loss: {avg_loss:.4f}\")\n"
      ],
      "metadata": {
        "colab": {
          "base_uri": "https://localhost:8080/"
        },
        "id": "NjRm5PcyXhIV",
        "outputId": "0abc1276-0847-4f1c-a743-0fe64a4a8167"
      },
      "execution_count": null,
      "outputs": [
        {
          "output_type": "stream",
          "name": "stderr",
          "text": [
            "Epoch 1/50: 100%|██████████| 24/24 [01:05<00:00,  2.71s/it]\n"
          ]
        },
        {
          "output_type": "stream",
          "name": "stdout",
          "text": [
            "Epoch 1/50 - Loss: 0.6433\n"
          ]
        },
        {
          "output_type": "stream",
          "name": "stderr",
          "text": [
            "Epoch 2/50: 100%|██████████| 24/24 [00:26<00:00,  1.08s/it]\n"
          ]
        },
        {
          "output_type": "stream",
          "name": "stdout",
          "text": [
            "Epoch 2/50 - Loss: 0.3314\n"
          ]
        },
        {
          "output_type": "stream",
          "name": "stderr",
          "text": [
            "Epoch 3/50: 100%|██████████| 24/24 [00:21<00:00,  1.12it/s]\n"
          ]
        },
        {
          "output_type": "stream",
          "name": "stdout",
          "text": [
            "Epoch 3/50 - Loss: 0.2360\n"
          ]
        },
        {
          "output_type": "stream",
          "name": "stderr",
          "text": [
            "Epoch 4/50: 100%|██████████| 24/24 [00:22<00:00,  1.05it/s]\n"
          ]
        },
        {
          "output_type": "stream",
          "name": "stdout",
          "text": [
            "Epoch 4/50 - Loss: 0.1959\n"
          ]
        },
        {
          "output_type": "stream",
          "name": "stderr",
          "text": [
            "Epoch 5/50: 100%|██████████| 24/24 [00:21<00:00,  1.14it/s]\n"
          ]
        },
        {
          "output_type": "stream",
          "name": "stdout",
          "text": [
            "Epoch 5/50 - Loss: 0.1723\n"
          ]
        },
        {
          "output_type": "stream",
          "name": "stderr",
          "text": [
            "Epoch 6/50: 100%|██████████| 24/24 [00:22<00:00,  1.06it/s]\n"
          ]
        },
        {
          "output_type": "stream",
          "name": "stdout",
          "text": [
            "Epoch 6/50 - Loss: 0.1615\n"
          ]
        },
        {
          "output_type": "stream",
          "name": "stderr",
          "text": [
            "Epoch 7/50: 100%|██████████| 24/24 [00:22<00:00,  1.06it/s]\n"
          ]
        },
        {
          "output_type": "stream",
          "name": "stdout",
          "text": [
            "Epoch 7/50 - Loss: 0.1484\n"
          ]
        },
        {
          "output_type": "stream",
          "name": "stderr",
          "text": [
            "Epoch 8/50: 100%|██████████| 24/24 [00:23<00:00,  1.02it/s]\n"
          ]
        },
        {
          "output_type": "stream",
          "name": "stdout",
          "text": [
            "Epoch 8/50 - Loss: 0.1227\n"
          ]
        },
        {
          "output_type": "stream",
          "name": "stderr",
          "text": [
            "Epoch 9/50: 100%|██████████| 24/24 [00:25<00:00,  1.05s/it]\n"
          ]
        },
        {
          "output_type": "stream",
          "name": "stdout",
          "text": [
            "Epoch 9/50 - Loss: 0.1124\n"
          ]
        },
        {
          "output_type": "stream",
          "name": "stderr",
          "text": [
            "Epoch 10/50: 100%|██████████| 24/24 [00:21<00:00,  1.11it/s]\n"
          ]
        },
        {
          "output_type": "stream",
          "name": "stdout",
          "text": [
            "Epoch 10/50 - Loss: 0.1378\n"
          ]
        },
        {
          "output_type": "stream",
          "name": "stderr",
          "text": [
            "Epoch 11/50: 100%|██████████| 24/24 [00:22<00:00,  1.06it/s]\n"
          ]
        },
        {
          "output_type": "stream",
          "name": "stdout",
          "text": [
            "Epoch 11/50 - Loss: 0.1199\n"
          ]
        },
        {
          "output_type": "stream",
          "name": "stderr",
          "text": [
            "Epoch 12/50: 100%|██████████| 24/24 [00:20<00:00,  1.14it/s]\n"
          ]
        },
        {
          "output_type": "stream",
          "name": "stdout",
          "text": [
            "Epoch 12/50 - Loss: 0.1228\n"
          ]
        },
        {
          "output_type": "stream",
          "name": "stderr",
          "text": [
            "Epoch 13/50: 100%|██████████| 24/24 [00:22<00:00,  1.06it/s]\n"
          ]
        },
        {
          "output_type": "stream",
          "name": "stdout",
          "text": [
            "Epoch 13/50 - Loss: 0.1052\n"
          ]
        },
        {
          "output_type": "stream",
          "name": "stderr",
          "text": [
            "Epoch 14/50: 100%|██████████| 24/24 [00:22<00:00,  1.09it/s]\n"
          ]
        },
        {
          "output_type": "stream",
          "name": "stdout",
          "text": [
            "Epoch 14/50 - Loss: 0.1249\n"
          ]
        },
        {
          "output_type": "stream",
          "name": "stderr",
          "text": [
            "Epoch 15/50: 100%|██████████| 24/24 [00:23<00:00,  1.04it/s]\n"
          ]
        },
        {
          "output_type": "stream",
          "name": "stdout",
          "text": [
            "Epoch 15/50 - Loss: 0.1206\n"
          ]
        },
        {
          "output_type": "stream",
          "name": "stderr",
          "text": [
            "Epoch 16/50: 100%|██████████| 24/24 [00:23<00:00,  1.01it/s]\n"
          ]
        },
        {
          "output_type": "stream",
          "name": "stdout",
          "text": [
            "Epoch 16/50 - Loss: 0.1205\n"
          ]
        },
        {
          "output_type": "stream",
          "name": "stderr",
          "text": [
            "Epoch 17/50: 100%|██████████| 24/24 [00:22<00:00,  1.09it/s]\n"
          ]
        },
        {
          "output_type": "stream",
          "name": "stdout",
          "text": [
            "Epoch 17/50 - Loss: 0.1138\n"
          ]
        },
        {
          "output_type": "stream",
          "name": "stderr",
          "text": [
            "Epoch 18/50: 100%|██████████| 24/24 [00:24<00:00,  1.01s/it]\n"
          ]
        },
        {
          "output_type": "stream",
          "name": "stdout",
          "text": [
            "Epoch 18/50 - Loss: 0.1052\n"
          ]
        },
        {
          "output_type": "stream",
          "name": "stderr",
          "text": [
            "Epoch 19/50: 100%|██████████| 24/24 [00:24<00:00,  1.04s/it]\n"
          ]
        },
        {
          "output_type": "stream",
          "name": "stdout",
          "text": [
            "Epoch 19/50 - Loss: 0.0941\n"
          ]
        },
        {
          "output_type": "stream",
          "name": "stderr",
          "text": [
            "Epoch 20/50: 100%|██████████| 24/24 [00:22<00:00,  1.09it/s]\n"
          ]
        },
        {
          "output_type": "stream",
          "name": "stdout",
          "text": [
            "Epoch 20/50 - Loss: 0.0824\n"
          ]
        },
        {
          "output_type": "stream",
          "name": "stderr",
          "text": [
            "Epoch 21/50: 100%|██████████| 24/24 [00:22<00:00,  1.05it/s]\n"
          ]
        },
        {
          "output_type": "stream",
          "name": "stdout",
          "text": [
            "Epoch 21/50 - Loss: 0.0971\n"
          ]
        },
        {
          "output_type": "stream",
          "name": "stderr",
          "text": [
            "Epoch 22/50: 100%|██████████| 24/24 [00:20<00:00,  1.14it/s]\n"
          ]
        },
        {
          "output_type": "stream",
          "name": "stdout",
          "text": [
            "Epoch 22/50 - Loss: 0.0856\n"
          ]
        },
        {
          "output_type": "stream",
          "name": "stderr",
          "text": [
            "Epoch 23/50: 100%|██████████| 24/24 [00:23<00:00,  1.02it/s]\n"
          ]
        },
        {
          "output_type": "stream",
          "name": "stdout",
          "text": [
            "Epoch 23/50 - Loss: 0.0931\n"
          ]
        },
        {
          "output_type": "stream",
          "name": "stderr",
          "text": [
            "Epoch 24/50: 100%|██████████| 24/24 [00:24<00:00,  1.02s/it]\n"
          ]
        },
        {
          "output_type": "stream",
          "name": "stdout",
          "text": [
            "Epoch 24/50 - Loss: 0.0873\n"
          ]
        },
        {
          "output_type": "stream",
          "name": "stderr",
          "text": [
            "Epoch 25/50: 100%|██████████| 24/24 [00:21<00:00,  1.09it/s]\n"
          ]
        },
        {
          "output_type": "stream",
          "name": "stdout",
          "text": [
            "Epoch 25/50 - Loss: 0.0682\n"
          ]
        },
        {
          "output_type": "stream",
          "name": "stderr",
          "text": [
            "Epoch 26/50: 100%|██████████| 24/24 [00:23<00:00,  1.02it/s]\n"
          ]
        },
        {
          "output_type": "stream",
          "name": "stdout",
          "text": [
            "Epoch 26/50 - Loss: 0.0670\n"
          ]
        },
        {
          "output_type": "stream",
          "name": "stderr",
          "text": [
            "Epoch 27/50: 100%|██████████| 24/24 [00:23<00:00,  1.01it/s]\n"
          ]
        },
        {
          "output_type": "stream",
          "name": "stdout",
          "text": [
            "Epoch 27/50 - Loss: 0.0620\n"
          ]
        },
        {
          "output_type": "stream",
          "name": "stderr",
          "text": [
            "Epoch 28/50: 100%|██████████| 24/24 [00:24<00:00,  1.01s/it]\n"
          ]
        },
        {
          "output_type": "stream",
          "name": "stdout",
          "text": [
            "Epoch 28/50 - Loss: 0.0731\n"
          ]
        },
        {
          "output_type": "stream",
          "name": "stderr",
          "text": [
            "Epoch 29/50: 100%|██████████| 24/24 [00:24<00:00,  1.02s/it]\n"
          ]
        },
        {
          "output_type": "stream",
          "name": "stdout",
          "text": [
            "Epoch 29/50 - Loss: 0.0701\n"
          ]
        },
        {
          "output_type": "stream",
          "name": "stderr",
          "text": [
            "Epoch 30/50: 100%|██████████| 24/24 [00:21<00:00,  1.10it/s]\n"
          ]
        },
        {
          "output_type": "stream",
          "name": "stdout",
          "text": [
            "Epoch 30/50 - Loss: 0.0664\n"
          ]
        },
        {
          "output_type": "stream",
          "name": "stderr",
          "text": [
            "Epoch 31/50: 100%|██████████| 24/24 [00:22<00:00,  1.05it/s]\n"
          ]
        },
        {
          "output_type": "stream",
          "name": "stdout",
          "text": [
            "Epoch 31/50 - Loss: 0.0615\n"
          ]
        },
        {
          "output_type": "stream",
          "name": "stderr",
          "text": [
            "Epoch 32/50: 100%|██████████| 24/24 [00:24<00:00,  1.01s/it]\n"
          ]
        },
        {
          "output_type": "stream",
          "name": "stdout",
          "text": [
            "Epoch 32/50 - Loss: 0.0658\n"
          ]
        },
        {
          "output_type": "stream",
          "name": "stderr",
          "text": [
            "Epoch 33/50: 100%|██████████| 24/24 [00:21<00:00,  1.09it/s]\n"
          ]
        },
        {
          "output_type": "stream",
          "name": "stdout",
          "text": [
            "Epoch 33/50 - Loss: 0.0615\n"
          ]
        },
        {
          "output_type": "stream",
          "name": "stderr",
          "text": [
            "Epoch 34/50: 100%|██████████| 24/24 [00:24<00:00,  1.03s/it]\n"
          ]
        },
        {
          "output_type": "stream",
          "name": "stdout",
          "text": [
            "Epoch 34/50 - Loss: 0.0654\n"
          ]
        },
        {
          "output_type": "stream",
          "name": "stderr",
          "text": [
            "Epoch 35/50: 100%|██████████| 24/24 [00:23<00:00,  1.04it/s]\n"
          ]
        },
        {
          "output_type": "stream",
          "name": "stdout",
          "text": [
            "Epoch 35/50 - Loss: 0.0659\n"
          ]
        },
        {
          "output_type": "stream",
          "name": "stderr",
          "text": [
            "Epoch 36/50: 100%|██████████| 24/24 [00:25<00:00,  1.05s/it]\n"
          ]
        },
        {
          "output_type": "stream",
          "name": "stdout",
          "text": [
            "Epoch 36/50 - Loss: 0.0724\n"
          ]
        },
        {
          "output_type": "stream",
          "name": "stderr",
          "text": [
            "Epoch 37/50: 100%|██████████| 24/24 [00:23<00:00,  1.01it/s]\n"
          ]
        },
        {
          "output_type": "stream",
          "name": "stdout",
          "text": [
            "Epoch 37/50 - Loss: 0.0689\n"
          ]
        },
        {
          "output_type": "stream",
          "name": "stderr",
          "text": [
            "Epoch 38/50: 100%|██████████| 24/24 [00:23<00:00,  1.03it/s]\n"
          ]
        },
        {
          "output_type": "stream",
          "name": "stdout",
          "text": [
            "Epoch 38/50 - Loss: 0.0696\n"
          ]
        },
        {
          "output_type": "stream",
          "name": "stderr",
          "text": [
            "Epoch 39/50: 100%|██████████| 24/24 [00:23<00:00,  1.04it/s]\n"
          ]
        },
        {
          "output_type": "stream",
          "name": "stdout",
          "text": [
            "Epoch 39/50 - Loss: 0.0589\n"
          ]
        },
        {
          "output_type": "stream",
          "name": "stderr",
          "text": [
            "Epoch 40/50: 100%|██████████| 24/24 [00:22<00:00,  1.05it/s]\n"
          ]
        },
        {
          "output_type": "stream",
          "name": "stdout",
          "text": [
            "Epoch 40/50 - Loss: 0.0600\n"
          ]
        },
        {
          "output_type": "stream",
          "name": "stderr",
          "text": [
            "Epoch 41/50: 100%|██████████| 24/24 [00:21<00:00,  1.12it/s]\n"
          ]
        },
        {
          "output_type": "stream",
          "name": "stdout",
          "text": [
            "Epoch 41/50 - Loss: 0.0656\n"
          ]
        },
        {
          "output_type": "stream",
          "name": "stderr",
          "text": [
            "Epoch 42/50: 100%|██████████| 24/24 [00:23<00:00,  1.01it/s]\n"
          ]
        },
        {
          "output_type": "stream",
          "name": "stdout",
          "text": [
            "Epoch 42/50 - Loss: 0.0697\n"
          ]
        },
        {
          "output_type": "stream",
          "name": "stderr",
          "text": [
            "Epoch 43/50: 100%|██████████| 24/24 [00:23<00:00,  1.01it/s]\n"
          ]
        },
        {
          "output_type": "stream",
          "name": "stdout",
          "text": [
            "Epoch 43/50 - Loss: 0.0682\n"
          ]
        },
        {
          "output_type": "stream",
          "name": "stderr",
          "text": [
            "Epoch 44/50: 100%|██████████| 24/24 [00:22<00:00,  1.05it/s]\n"
          ]
        },
        {
          "output_type": "stream",
          "name": "stdout",
          "text": [
            "Epoch 44/50 - Loss: 0.0545\n"
          ]
        },
        {
          "output_type": "stream",
          "name": "stderr",
          "text": [
            "Epoch 45/50: 100%|██████████| 24/24 [00:23<00:00,  1.02it/s]\n"
          ]
        },
        {
          "output_type": "stream",
          "name": "stdout",
          "text": [
            "Epoch 45/50 - Loss: 0.0596\n"
          ]
        },
        {
          "output_type": "stream",
          "name": "stderr",
          "text": [
            "Epoch 46/50: 100%|██████████| 24/24 [00:21<00:00,  1.12it/s]\n"
          ]
        },
        {
          "output_type": "stream",
          "name": "stdout",
          "text": [
            "Epoch 46/50 - Loss: 0.0543\n"
          ]
        },
        {
          "output_type": "stream",
          "name": "stderr",
          "text": [
            "Epoch 47/50: 100%|██████████| 24/24 [00:25<00:00,  1.06s/it]\n"
          ]
        },
        {
          "output_type": "stream",
          "name": "stdout",
          "text": [
            "Epoch 47/50 - Loss: 0.0630\n"
          ]
        },
        {
          "output_type": "stream",
          "name": "stderr",
          "text": [
            "Epoch 48/50: 100%|██████████| 24/24 [00:23<00:00,  1.02it/s]\n"
          ]
        },
        {
          "output_type": "stream",
          "name": "stdout",
          "text": [
            "Epoch 48/50 - Loss: 0.0634\n"
          ]
        },
        {
          "output_type": "stream",
          "name": "stderr",
          "text": [
            "Epoch 49/50: 100%|██████████| 24/24 [00:21<00:00,  1.10it/s]\n"
          ]
        },
        {
          "output_type": "stream",
          "name": "stdout",
          "text": [
            "Epoch 49/50 - Loss: 0.0604\n"
          ]
        },
        {
          "output_type": "stream",
          "name": "stderr",
          "text": [
            "Epoch 50/50: 100%|██████████| 24/24 [00:24<00:00,  1.02s/it]"
          ]
        },
        {
          "output_type": "stream",
          "name": "stdout",
          "text": [
            "Epoch 50/50 - Loss: 0.0618\n"
          ]
        },
        {
          "output_type": "stream",
          "name": "stderr",
          "text": [
            "\n"
          ]
        }
      ]
    },
    {
      "cell_type": "code",
      "source": [
        "save_path = \"/content/drive/MyDrive/doppler_model_regression.pth\"\n",
        "torch.save({\n",
        "    'model_state_dict': model.state_dict(),\n",
        "    'target_mean': target_mean,\n",
        "    'target_std': target_std,\n",
        "    'n_mels': ds_kwargs['n_mels'],\n",
        "    'max_frames': ds_kwargs['max_frames']\n",
        "}, save_path)\n",
        "print(\"Model saved to\", save_path)\n"
      ],
      "metadata": {
        "colab": {
          "base_uri": "https://localhost:8080/"
        },
        "id": "KIopcM2FXmeG",
        "outputId": "1ae70687-ad95-4300-89ab-ad5e1907275c"
      },
      "execution_count": null,
      "outputs": [
        {
          "output_type": "stream",
          "name": "stdout",
          "text": [
            "Model saved to /content/drive/MyDrive/doppler_model_regression.pth\n"
          ]
        }
      ]
    },
    {
      "cell_type": "code",
      "source": [
        "# inference on test set and collect predictions\n",
        "model.eval()\n",
        "all_trues = []\n",
        "all_preds = []\n",
        "all_names = []\n",
        "\n",
        "with torch.no_grad():\n",
        "    for mel, labels_norm, names in tqdm(test_loader, desc=\"Evaluating\"):\n",
        "        mel = mel.to(device)\n",
        "        out_norm = model(mel).cpu().numpy()\n",
        "        labels_norm = labels_norm.numpy()\n",
        "        # unnormalize\n",
        "        preds = out_norm * target_std + target_mean\n",
        "        trues = labels_norm * target_std + target_mean\n",
        "\n",
        "        all_preds.append(preds)\n",
        "        all_trues.append(trues)\n",
        "        all_names.extend(names)\n",
        "\n",
        "all_preds = np.vstack(all_preds)  # shape (M,2)\n",
        "all_trues = np.vstack(all_trues)\n",
        "\n",
        "# regression metrics\n",
        "mae_speed = mean_absolute_error(all_trues[:,0], all_preds[:,0])\n",
        "mae_freq  = mean_absolute_error(all_trues[:,1], all_preds[:,1])\n",
        "rmse_speed = mean_squared_error(all_trues[:,0], all_preds[:,0])\n",
        "rmse_freq  = mean_squared_error(all_trues[:,1], all_preds[:,1])\n",
        "r2_speed = r2_score(all_trues[:,0], all_preds[:,0])\n",
        "r2_freq  = r2_score(all_trues[:,1], all_preds[:,1])\n",
        "\n",
        "print(\"Regression metrics:\")\n",
        "print(f\" Speed  - MAE: {mae_speed:.3f} km/h, RMSE: {rmse_speed:.3f}, R2: {r2_speed:.3f}\")\n",
        "print(f\" Freq   - MAE: {mae_freq:.3f} Hz, RMSE: {rmse_freq:.3f}, R2: {r2_freq:.3f}\")\n",
        "\n",
        "# Save CSV of results\n",
        "df = pd.DataFrame({\n",
        "    \"filename\": all_names,\n",
        "    \"true_speed\": all_trues[:,0],\n",
        "    \"pred_speed\": all_preds[:,0],\n",
        "    \"true_freq\": all_trues[:,1],\n",
        "    \"pred_freq\": all_preds[:,1]\n",
        "})\n",
        "csv_path = \"/content/drive/MyDrive/doppler_predictions.csv\"\n",
        "df.to_csv(csv_path, index=False)\n",
        "print(\"Saved predictions CSV to:\", csv_path)\n"
      ],
      "metadata": {
        "colab": {
          "base_uri": "https://localhost:8080/"
        },
        "id": "z_1CAjDWbDJE",
        "outputId": "5bfdae13-a8b4-4575-a565-6117229277d3"
      },
      "execution_count": null,
      "outputs": [
        {
          "output_type": "stream",
          "name": "stderr",
          "text": [
            "Evaluating: 100%|██████████| 6/6 [00:04<00:00,  1.24it/s]\n"
          ]
        },
        {
          "output_type": "stream",
          "name": "stdout",
          "text": [
            "Regression metrics:\n",
            " Speed  - MAE: 3.637 km/h, RMSE: 19.926, R2: 0.974\n",
            " Freq   - MAE: 7.331 Hz, RMSE: 85.390, R2: 0.997\n",
            "Saved predictions CSV to: /content/drive/MyDrive/doppler_predictions.csv\n"
          ]
        }
      ]
    },
    {
      "cell_type": "code",
      "source": [
        "# PARAMETERS: number of bins to create for speed and frequency\n",
        "speed_bins = 5\n",
        "freq_bins  = 5\n",
        "\n",
        "# create bins based on true values range (you could also set fixed bins)\n",
        "speed_min, speed_max = all_trues[:,0].min(), all_trues[:,0].max()\n",
        "freq_min, freq_max   = all_trues[:,1].min(), all_trues[:,1].max()\n",
        "\n",
        "speed_edges = np.linspace(speed_min, speed_max, speed_bins+1)\n",
        "freq_edges  = np.linspace(freq_min, freq_max, freq_bins+1)\n",
        "\n",
        "# digitize: returns bin index in 1..bins, subtract 1 to get 0..bins-1\n",
        "true_speed_bins = np.digitize(all_trues[:,0], speed_edges) - 1\n",
        "pred_speed_bins = np.digitize(all_preds[:,0], speed_edges) - 1\n",
        "true_freq_bins  = np.digitize(all_trues[:,1], freq_edges) - 1\n",
        "pred_freq_bins  = np.digitize(all_preds[:,1], freq_edges) - 1\n",
        "\n",
        "# clip indices to valid range\n",
        "true_speed_bins = np.clip(true_speed_bins, 0, speed_bins-1)\n",
        "pred_speed_bins = np.clip(pred_speed_bins, 0, speed_bins-1)\n",
        "true_freq_bins  = np.clip(true_freq_bins, 0, freq_bins-1)\n",
        "pred_freq_bins  = np.clip(pred_freq_bins, 0, freq_bins-1)\n",
        "\n",
        "# compute metrics for speed bins\n",
        "acc_speed = accuracy_score(true_speed_bins, pred_speed_bins)\n",
        "prec_speed, recall_speed, f1_speed, _ = precision_recall_fscore_support(true_speed_bins, pred_speed_bins, average='weighted', zero_division=0)\n",
        "cm_speed = confusion_matrix(true_speed_bins, pred_speed_bins)\n",
        "\n",
        "print(\"\\nBinned (classification-style) metrics — SPEED\")\n",
        "print(f\" Accuracy: {acc_speed:.3f}\")\n",
        "print(f\" Precision: {prec_speed:.3f}, Recall: {recall_speed:.3f}, F1: {f1_speed:.3}\")\n",
        "print(\"Confusion Matrix (rows=true bins, cols=pred bins):\")\n",
        "print(cm_speed)\n",
        "\n",
        "# compute metrics for freq bins\n",
        "acc_freq = accuracy_score(true_freq_bins, pred_freq_bins)\n",
        "prec_freq, recall_freq, f1_freq, _ = precision_recall_fscore_support(true_freq_bins, pred_freq_bins, average='weighted', zero_division=0)\n",
        "cm_freq = confusion_matrix(true_freq_bins, pred_freq_bins)\n",
        "\n",
        "print(\"\\nBinned (classification-style) metrics — FREQUENCY\")\n",
        "print(f\" Accuracy: {acc_freq:.3f}\")\n",
        "print(f\" Precision: {prec_speed:.3f}, Recall: {recall_speed:.3f}, F1: {f1_speed:.3f}\")\n",
        "print(\"Confusion Matrix (rows=true bins, cols=pred bins):\")\n",
        "print(cm_freq)\n"
      ],
      "metadata": {
        "colab": {
          "base_uri": "https://localhost:8080/"
        },
        "id": "SfTkh0OvbGIu",
        "outputId": "6862f516-264b-4ac3-86cf-cbb6552ad364"
      },
      "execution_count": null,
      "outputs": [
        {
          "output_type": "stream",
          "name": "stdout",
          "text": [
            "\n",
            "Binned (classification-style) metrics — SPEED\n",
            " Accuracy: 0.917\n",
            " Precision: 0.923, Recall: 0.917, F1: 0.915\n",
            "Confusion Matrix (rows=true bins, cols=pred bins):\n",
            "[[14  0  0  0  0]\n",
            " [ 3 12  0  0  0]\n",
            " [ 0  1 15  3  0]\n",
            " [ 0  0  0 22  1]\n",
            " [ 0  0  0  0 25]]\n",
            "\n",
            "Binned (classification-style) metrics — FREQUENCY\n",
            " Accuracy: 0.792\n",
            " Precision: 0.923, Recall: 0.917, F1: 0.915\n",
            "Confusion Matrix (rows=true bins, cols=pred bins):\n",
            "[[14  0  0  0  0]\n",
            " [ 7 24  2  0  0]\n",
            " [ 0  0  0  0  0]\n",
            " [ 0  0  9 22  2]\n",
            " [ 0  0  0  0 16]]\n"
          ]
        }
      ]
    },
    {
      "cell_type": "code",
      "source": [
        "import seaborn as sns\n",
        "# scatter predictions vs true\n",
        "plt.figure(figsize=(10,4))\n",
        "plt.subplot(1,2,1)\n",
        "plt.scatter(all_trues[:,0], all_preds[:,0], alpha=0.7)\n",
        "plt.plot([all_trues[:,0].min(), all_trues[:,0].max()], [all_trues[:,0].min(), all_trues[:,0].max()], 'r--')\n",
        "plt.xlabel(\"True Speed (km/h)\"); plt.ylabel(\"Predicted Speed (km/h)\"); plt.title(\"Speed\")\n",
        "\n",
        "plt.subplot(1,2,2)\n",
        "plt.scatter(all_trues[:,1], all_preds[:,1], alpha=0.7)\n",
        "plt.plot([all_trues[:,1].min(), all_trues[:,1].max()], [all_trues[:,1].min(), all_trues[:,1].max()], 'r--')\n",
        "plt.xlabel(\"True Freq (Hz)\"); plt.ylabel(\"Pred Freq (Hz)\"); plt.title(\"Frequency\")\n",
        "plt.tight_layout()\n",
        "plt.show()\n",
        "\n",
        "# confusion matrices heatmaps\n",
        "plt.figure(figsize=(10,4))\n",
        "plt.subplot(1,2,1)\n",
        "sns.heatmap(cm_speed, annot=True, fmt='d', cmap='Blues')\n",
        "plt.title(\"Confusion Matrix - Speed bins\")\n",
        "plt.xlabel(\"Predicted bin\"); plt.ylabel(\"True bin\")\n",
        "\n",
        "plt.subplot(1,2,2)\n",
        "sns.heatmap(cm_freq, annot=True, fmt='d', cmap='Blues')\n",
        "plt.title(\"Confusion Matrix - Frequency bins\")\n",
        "plt.xlabel(\"Predicted bin\"); plt.ylabel(\"True bin\")\n",
        "plt.tight_layout()\n",
        "plt.show()\n"
      ],
      "metadata": {
        "colab": {
          "base_uri": "https://localhost:8080/",
          "height": 797
        },
        "id": "3TwAp6-RbIdo",
        "outputId": "7045461f-e40f-4fe8-cf6c-3f5ffdb4584d"
      },
      "execution_count": null,
      "outputs": [
        {
          "output_type": "display_data",
          "data": {
            "text/plain": [
              "<Figure size 1000x400 with 2 Axes>"
            ],
            "image/png": "[encoded data removed]"
          },
          "metadata": {}
        },
        {
          "output_type": "display_data",
          "data": {
            "text/plain": [
              "<Figure size 1000x400 with 4 Axes>"
            ],
            "image/png": "[encoded data removed]"
          },
          "metadata": {}
        }
      ]
    }
  ]
}